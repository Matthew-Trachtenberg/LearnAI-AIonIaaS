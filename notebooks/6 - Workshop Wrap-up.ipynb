{
 "cells": [
  {
   "cell_type": "markdown",
   "metadata": {
    "slideshow": {
     "slide_type": "notes"
    }
   },
   "source": [
    "*(Delete this cell before release)*\n",
    "\n",
    "STATUS: In-Work\n",
    "\n",
    "REFERENCES:\n",
    "\n",
    "    \n",
    "TODO:\n"
   ]
  },
  {
   "cell_type": "markdown",
   "metadata": {
    "slideshow": {
     "slide_type": "slide"
    }
   },
   "source": [
    "![](assets/solutions-microsoft-logo-small.png)\n",
    "<img src=\"assets/ai.jpg\" style=\"height:200px;float:right;vertical-align:text-top\">\n",
    "\n",
    "## Artificial Intelligence on IaaS++\n",
    "\n",
    "This is part 7 of a 7-part workshop. The Jupyter Notbooks we are using are arranged in the same order as the Team Data Science Process: \n",
    "\n",
    "0 - [Introduction and Setup](./0%20-%20Introduction.ipynb)\n",
    "\n",
    "1 - [Business Understanding](./1%20-%20Business%20Understanding.ipynb)\n",
    "\n",
    "2 - [Data Acquisition and Understanding](./2%20-%20Data%20Acquisition%20and%20Understanding.ipynb)\n",
    "\n",
    "3 - [Modeling](./3%20-%20Modeling.ipynb)\n",
    "\n",
    "4 - [Deployment](./4%20-%20Deployment.ipynb)\n",
    "\n",
    "5 - [Customer Acceptance](./5%20-%20Customer%20Acceptance.ipynb)\n",
    "\n",
    "6 - *(This Module)* [Workshop Wrap-up](./6%20-%20Workshop%20Wrap-up.ipynb)"
   ]
  },
  {
   "cell_type": "markdown",
   "metadata": {
    "slideshow": {
     "slide_type": "slide"
    }
   },
   "source": [
    "<p style=\"border-bottom: 3px solid lightgrey;\"></p> \n",
    "\n",
    "<h3>Workshop wrap-up</h3>\n",
    "\n",
    "Working through all of these notebooks, we have completed:\n",
    "\n",
    " * Data aquisition ingestion and preparation \n",
    " * Building an LSTM time series model that used a 50 cycle history from an aircraft engine to predict failure within the next 30 cycles \n",
    " * Operationalization asset generation and model deployment\n",
    " \n",
    "This scenario is intended to help guide you through the predictive maintenance model development process with your own data. This workshop introduced the Team Data Science Process, and walked you through each step of implementing it. Regardless of plaform or technology, you can use this process to guide your projects in Advanced Analytics from start to finish. \n",
    "\n"
   ]
  }
 ],
 "metadata": {
  "celltoolbar": "Slideshow",
  "hide_input": false,
  "kernelspec": {
   "display_name": "Python 3",
   "language": "python",
   "name": "python3"
  },
  "language_info": {
   "codemirror_mode": {
    "name": "ipython",
    "version": 3
   },
   "file_extension": ".py",
   "mimetype": "text/x-python",
   "name": "python",
   "nbconvert_exporter": "python",
   "pygments_lexer": "ipython3",
   "version": "3.6.4"
  }
 },
 "nbformat": 4,
 "nbformat_minor": 2
}
