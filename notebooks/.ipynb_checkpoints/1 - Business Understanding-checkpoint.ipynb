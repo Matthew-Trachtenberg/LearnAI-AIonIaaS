{
 "cells": [
  {
   "cell_type": "markdown",
   "metadata": {},
   "source": [
    "<img style=\"float: right;\" src=\"./assets/solutions-microsoft-logo-small.png\">\n",
    "\n",
    "# AI on IaaS++\n",
    "\n",
    "## Microsoft Cloud and AI Team\n",
    "\n",
    "The Team Data Science Process (TDSP) is an agile, iterative data science methodology to deliver predictive analytics solutions and intelligent applications efficiently. TDSP helps improve team collaboration and learning. It contains a distillation of the best practices and structures from Microsoft and others in the industry that facilitate the successful implementation of data science initiatives. The goal is to help companies fully realize the benefits of their analytics program.\n",
    "\n",
    "TDSP comprises of the following key components:\n",
    "\n",
    " - A data science lifecycle definition\n",
    " - A standardized project structure\n",
    "    Infrastructure and resources for data science projects\n",
    "    Tools and utilities for project execution\n",
    "    \n",
    "<p><img style=\"float: left; margin: 0px 15px 15px 0px;\" src=\"./assets/aml-logo.png\">**Note:** \n",
    "    \n",
    "*You can follow a complete example of this process using Azure Machine Learning* \n",
    "</br>\n",
    "\n",
    "- [\"Biomedical entity recognition using Team Data Science Process (TDSP) Template\"](https://docs.microsoft.com/en-us/azure/machine-learning/preview/scenario-tdsp-biomedical-recognition?toc=%2Fen-us%2Fazure%2Fmachine-learning%2Fteam-data-science-process%2Ftoc.json&bc=%2Fen-us%2Fazure%2Fbread%2Ftoc.json)</p>\n",
    "\n",
    "*This workshop guides you through a series of exercises you can use to learn to implement the TDSP in your Data Science project, using only Python in a Notebook. You can change the **Setup** and **Lab** cells in this Notebook to use another language, another platform, and with more or fewer prompts based on your audience's needs.*\n",
    "\n",
    "For the labs below, Look for the sections marked: \n",
    "\n",
    "`# <TODO: REPLACE THIS COMMENT WITH PYTHON CODE>`\n",
    "\n",
    "There may be one line needed, but most often more than that - read the entire code snippet to see what you need to do. \n",
    "\n",
    "[Try to figure out the labs yourself, then search the web, then ask your neighbor - and if you're really stuck, check the answer-sheet](.\\AnswerKey.txt) \n",
    "\n",
    "    \n",
    "<p style=\"border-bottom: 3px solid lightgrey;\"></p>"
   ]
  },
  {
   "cell_type": "markdown",
   "metadata": {},
   "source": [
    "<p style=\"border-bottom: 3px solid lightgrey;\"></p> \n",
    "\n",
    "<h1><img style=\"float: left; margin: 0px 15px 15px 0px;\" src=\"./assets/check.png\">Phase One - Business Understanding</h1>\n",
    "\n",
    "Read the [Documentation Reference here](https://docs.microsoft.com/en-us/azure/machine-learning/team-data-science-process/lifecycle-business-understanding)\n",
    "\n",
    "**Goals**\n",
    " - Specify the key variables that are to serve as the model targets and whose related metrics are used determine the success of the project.\n",
    " - Identify the relevant data sources that the business has access to or needs to obtain.\n",
    "\n",
    "**How to do it**\n",
    "(There are two main tasks addressed in this stage)\n",
    " - Define objectives: Work with your customer and other stakeholders to understand and identify the business problems. Formulate questions that define the business goals that the data science techniques can target.\n",
    " - Identify data sources: Find the relevant data that helps you answer the questions that define the objectives of the project. \n",
    " \n",
    "<p><img style=\"float: right; margin: 0px 15px 15px 0px;\" src=\"./assets/aml-logo.png\"><b>Using Azure Machine Learning for this Phase:</b></p>\n",
    "\n",
    "<p><img style=\"float: left; margin: 0px 15px 15px 0px;\" src=\"./assets/checkbox.png\">[Identify scenarios and plan for advanced analytics data processing](https://docs.microsoft.com/en-us/azure/machine-learning/team-data-science-process/plan-your-environment)</p>\n",
    "<p><img style=\"float: left; margin: 0px 15px 15px 0px;\" src=\"./assets/checkbox.png\">[Fill out the project Charter Document](https://github.com/Azure/Azure-TDSP-ProjectTemplate/blob/master/Docs/Project/Charter.md)</p>\n",
    "<p><img style=\"float: left; margin: 0px 15px 15px 0px;\" src=\"./assets/checkbox.png\">[Identify Data Sources](https://github.com/Azure/Azure-TDSP-ProjectTemplate/blob/master/Docs/Data_Report/Data%20Defintion.md)</p>\n",
    "<p><img style=\"float: left; margin: 0px 15px 15px 0px;\" src=\"./assets/checkbox.png\">[Create a Data Dictionary](https://github.com/Azure/Azure-TDSP-ProjectTemplate/tree/master/Docs/Data_Dictionaries)</p>\n",
    "\n",
    "<p style=\"border-bottom: 1px solid lightgrey;\"></p> \n",
    "\n",
    "### Lab 1.0 - Define Objectives\n",
    "Instructions:\n",
    "1. Read the Business Case that follows.\n",
    "2. Open the Charter.md file from the */Azure-TDSP-ProjectTempate/Docs/Project* folder and edit it to contain as much information as time allows - at a minimum, answer the first five bullets. (Note, you can find [this document online here](https://github.com/Azure/Azure-TDSP-ProjectTemplate/blob/master/Docs/Project/Charter.md) )\n",
    "\n",
    "\n",
    "#### Business Case\n",
    "\n",
    "*The Orange Telecom company in France is one of the largest operators of mobile and internet services in Europe and Africa and a global leader in corporate telecommunication services. They have 256 million customers worldwide. They have significant coverage in France, Spain, Belgium, Poland, Romania, Slovakia Moldova, and a large presence Africa and the Middle East. Customer Churn is always an issue in any company. Orange would like to predict the propensity of customers to switch provider (churn), buy new products or services (appetency), or buy upgrades or add-ons proposed to them to make the sale more profitable (up-selling). For this effort, they think churn is the first thing they would like to focus on.*\n",
    "\n",
    "#### Lab verification\n",
    "<p><img style=\"float: left; margin: 0px 15px 15px 0px;\" src=\"./assets/checkbox.png\">Ensure you have the first five bullets documented.</p>\n",
    "\n",
    "<p style=\"border-bottom: 1px solid lightgrey;\"></p> \n",
    "\n",
    "### Lab 1.1 - Identify Data Sources\n",
    "Instructions:\n",
    "1. Using the business case, open the Charter.md file from the */Azure-TDSP-ProjectTempate/Docs/Project* folder and edit it to answer the first bullet under **Architecture**. (Note, you can find [this document online](https://github.com/Azure/Azure-TDSP-ProjectTemplate/blob/master/Docs/Project/Charter.md) )\n",
    "2. *Optional*: Develop a Data Movement strategy for these datasets, assuming large amounts of data from at least three locations. \n",
    "\n",
    "#### Lab verification\n",
    "<p><img style=\"float: left; margin: 0px 15px 15px 0px;\" src=\"./assets/checkbox.png\">Ensure you understand where this data would be found.</p>"
   ]
  },
  {
   "cell_type": "markdown",
   "metadata": {},
   "source": [
    "<p style=\"border-bottom: 3px solid lightgrey;\"></p> \n",
    "\n",
    "<h1>Phase One wrap-up</h1>\n",
    "\n",
    "This workshop introduced the Team Data Science Process, and walked you through each step of implementing it. Regardless of plaform or technology, you can use this process to guide your projects in Advanced Analytics from start to finish. \n",
    "\n"
   ]
  },
  {
   "cell_type": "code",
   "execution_count": null,
   "metadata": {},
   "outputs": [],
   "source": []
  }
 ],
 "metadata": {
  "hide_input": false,
  "kernelspec": {
   "display_name": "Python 3",
   "language": "python",
   "name": "python3"
  },
  "language_info": {
   "codemirror_mode": {
    "name": "ipython",
    "version": 3
   },
   "file_extension": ".py",
   "mimetype": "text/x-python",
   "name": "python",
   "nbconvert_exporter": "python",
   "pygments_lexer": "ipython3",
   "version": "3.6.4"
  }
 },
 "nbformat": 4,
 "nbformat_minor": 2
}
