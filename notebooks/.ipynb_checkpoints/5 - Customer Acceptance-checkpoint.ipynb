{
 "cells": [
  {
   "cell_type": "markdown",
   "metadata": {},
   "source": [
    "<img style=\"float: right;\" src=\"./assets/solutions-microsoft-logo-small.png\">\n",
    "\n",
    "# AI on IaaS++\n",
    "\n",
    "## Microsoft Cloud and AI Team\n",
    "\n",
    "The Team Data Science Process (TDSP) is an agile, iterative data science methodology to deliver predictive analytics solutions and intelligent applications efficiently. TDSP helps improve team collaboration and learning. It contains a distillation of the best practices and structures from Microsoft and others in the industry that facilitate the successful implementation of data science initiatives. The goal is to help companies fully realize the benefits of their analytics program.\n",
    "\n",
    "TDSP comprises of the following key components:\n",
    "\n",
    " - A data science lifecycle definition\n",
    " - A standardized project structure\n",
    "    Infrastructure and resources for data science projects\n",
    "    Tools and utilities for project execution\n",
    "    \n",
    "<p><img style=\"float: left; margin: 0px 15px 15px 0px;\" src=\"./assets/aml-logo.png\">**Note:** \n",
    "    \n",
    "*You can follow a complete example of this process using Azure Machine Learning* \n",
    "</br>\n",
    "\n",
    "- [\"Biomedical entity recognition using Team Data Science Process (TDSP) Template\"](https://docs.microsoft.com/en-us/azure/machine-learning/preview/scenario-tdsp-biomedical-recognition?toc=%2Fen-us%2Fazure%2Fmachine-learning%2Fteam-data-science-process%2Ftoc.json&bc=%2Fen-us%2Fazure%2Fbread%2Ftoc.json)</p>\n",
    "\n",
    "*This workshop guides you through a series of exercises you can use to learn to implement the TDSP in your Data Science project, using only Python in a Notebook. You can change the **Setup** and **Lab** cells in this Notebook to use another language, another platform, and with more or fewer prompts based on your audience's needs.*\n",
    "\n",
    "For the labs below, Look for the sections marked: \n",
    "\n",
    "`# <TODO: REPLACE THIS COMMENT WITH PYTHON CODE>`\n",
    "\n",
    "There may be one line needed, but most often more than that - read the entire code snippet to see what you need to do. \n",
    "\n",
    "[Try to figure out the labs yourself, then search the web, then ask your neighbor - and if you're really stuck, check the answer-sheet](.\\AnswerKey.txt) \n",
    "\n",
    "    \n",
    "<p style=\"border-bottom: 3px solid lightgrey;\"></p>"
   ]
  },
  {
   "cell_type": "markdown",
   "metadata": {},
   "source": [
    "<p style=\"border-bottom: 3px solid lightgrey;\"></p> \n",
    "\n",
    "<h1><img style=\"float: left; margin: 0px 15px 15px 0px;\" src=\"./assets/check.png\">Phase Five - Customer Acceptance</h1>\n",
    "\n",
    "Read the [Documentation Reference here](https://docs.microsoft.com/en-us/azure/machine-learning/team-data-science-process/lifecycle-acceptance)\n",
    "\n",
    "**Goal**\n",
    " - Confirm that the pipeline, the model, and their deployment in a production environment satisfy the customer's objectives\n",
    " - Create a path for retraining your model\n",
    "\n",
    "**How to do it**\n",
    "  - System validation: Confirm that the deployed model and pipeline meet the customer's needs.\n",
    "  - Project hand-off: Hand the project off to the entity that's going to run the system in production\n",
    "  - Develop a \"ground truth\" mechanism and feed the new labels (if applicable) back into the retraining API\n",
    "\n",
    "<p><img style=\"float: right; margin: 0px 15px 15px 0px;\" src=\"./assets/aml-logo.png\"><b>Using Azure Machine Learning for this Phase:</b></p>\n",
    "\n",
    "<p><img style=\"float: left; margin: 0px 15px 15px 0px;\" src=\"./assets/checkbox.png\">[Create an exit report of the project](https://github.com/Azure/Azure-TDSP-ProjectTemplate/blob/master/Docs/Project/Exit%20Report.md)</p>\n",
    "\n",
    "<p style=\"border-bottom: 1px solid lightgrey;\"></p> \n",
    "\n",
    "### Lab 5.0 - Testing and Handoff\n",
    "Instructions:\n",
    " 1. Review the [Create an exit report of the project](https://github.com/Azure/Azure-TDSP-ProjectTemplate/blob/master/Docs/Project/Exit%20Report.md) topic\n",
    "\n",
    "#### Lab verification\n",
    "<p><img style=\"float: left; margin: 0px 15px 15px 0px;\" src=\"./assets/checkbox.png\">Documentation reviewed and downloaded</p>\n",
    "\n",
    "<p style=\"border-bottom: 1px solid lightgrey;\"></p> \n"
   ]
  },
  {
   "cell_type": "markdown",
   "metadata": {},
   "source": [
    "<p style=\"border-bottom: 3px solid lightgrey;\"></p> \n",
    "\n",
    "<h1>Phase 5 wrap-up</h1>\n",
    "\n",
    "This workshop introduced the Team Data Science Process, and walked you through each step of implementing it. Regardless of plaform or technology, you can use this process to guide your projects in Advanced Analytics from start to finish. \n",
    "\n"
   ]
  },
  {
   "cell_type": "code",
   "execution_count": null,
   "metadata": {},
   "outputs": [],
   "source": []
  }
 ],
 "metadata": {
  "hide_input": false,
  "kernelspec": {
   "display_name": "Python 3",
   "language": "python",
   "name": "python3"
  },
  "language_info": {
   "codemirror_mode": {
    "name": "ipython",
    "version": 3
   },
   "file_extension": ".py",
   "mimetype": "text/x-python",
   "name": "python",
   "nbconvert_exporter": "python",
   "pygments_lexer": "ipython3",
   "version": "3.6.4"
  }
 },
 "nbformat": 4,
 "nbformat_minor": 2
}
