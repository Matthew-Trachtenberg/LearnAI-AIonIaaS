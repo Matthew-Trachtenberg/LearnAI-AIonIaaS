{
 "cells": [
  {
   "cell_type": "markdown",
   "metadata": {
    "slideshow": {
     "slide_type": "slide"
    }
   },
   "source": [
    "<img style=\"float: right;\" src=\"./assets/solutions-microsoft-logo-small.png\">\n",
    "\n",
    "# AI on IaaS++\n",
    "\n",
    "Course Design References - remove after Alpha-Lock:\n",
    "\n",
    "  -  Useful\n",
    "  -  High Production Value\n",
    "  -  Deep Learning with GPU (Keras often just knows, package dependency for TensorFlow - Check)\n",
    "  -  Scale-out\n",
    "  -  Deploy to IoT\n",
    "\n",
    "## Microsoft Cloud and AI Team\n",
    "\n",
    "This workshop leads you through a series of [Jupyter Notebooks](https://jupyter-notebook-beginner-guide.readthedocs.io/en/latest/what_is_jupyter.html) that explain how to use the Microsoft Azure Data Science Virtual Machine (DSVM) and the Team Data Science Process (TDSP) to create Data Science and AI solutions. These solutions can be deployed in a variety of ways, leveraging Infrastructure-as-a-Service (IaaS) through Platform-as-a-Service (PaaS) environments, and a mixture of both based on requirements. \n",
    "\n",
    "\n",
    "### The Data Science Virtual Machine (DSVM)\n",
    "\n",
    "The [Data Science Virtual Machine](https://docs.microsoft.com/en-us/azure/machine-learning/data-science-virtual-machine/) (DSVM) is a customized VM image on Microsoft’s Azure cloud built specifically for doing data science. It has many popular data science and other tools pre-installed and pre-configured to jump-start building intelligent applications for advanced analytics. It is available on Windows Server and on Linux. You can use it for training, and for all phases of the Data Science process. \n",
    "\n",
    "### The Team Data Science Process (TDSP)\n",
    "\n",
    "[The Team Data Science Process](https://docs.microsoft.com/en-us/azure/machine-learning/team-data-science-process/overview) (TDSP) is an agile, iterative data science methodology to deliver predictive analytics solutions and intelligent applications efficiently. TDSP helps improve team collaboration and learning. It contains a distillation of the best practices and structures from Microsoft and others in the industry that facilitate the successful implementation of data science initiatives. The goal is to help companies fully realize the benefits of their analytics program. Essentially, the TDSP provides:\n",
    "\n",
    "1. A Data Science Lifecycle\n",
    "2. A standardized project structure\n",
    "3. An infrastructure and other resources\n",
    "4. A set of tools and utilities\n",
    "\n",
    "<img style=\"float: center;\" height=\"800\" width=\"800\" src=\"https://azure.github.io/LearnAI-Bootcamp/lab03.1-tdsp_and_aml/resources/docs/images/tdsp.png\">\n",
    " \n",
    "*This workshop guides you through a series of exercises you can use to learn to implement the TDSP in your Data Science project, using Python in a Notebook. You can change the **Setup** and **Lab** cells in this Notebook to use another language, another platform, and with more or fewer prompts based on your audience's needs.*\n",
    "\n",
    "For the labs that follow, perform the steps you see listed. For some of the lab work, look for the sections marked: \n",
    "\n",
    "`# <TODO: REPLACE THIS COMMENT WITH CODE>`\n",
    "\n",
    "There may be just one line of code needed, but most often more lines of code than that - read the entire code snippet to see what you need to do. \n",
    "\n",
    "[Try to figure out the labs yourself, then search the web, then ask your neighbor - and if you're really stuck, check the answer-sheet](..\\AnswerKey.txt) \n",
    "\n",
    "    \n",
    "<p style=\"border-bottom: 3px solid lightgrey;\"></p>"
   ]
  },
  {
   "cell_type": "markdown",
   "metadata": {
    "collapsed": true,
    "slideshow": {
     "slide_type": "slide"
    }
   },
   "source": [
    "\n",
    "<p style=\"border-bottom: 1px solid lightgrey;\"></p>\n",
    "\n",
    "### Lab 0.0 - Set up an Azure Account\n",
    "You have four choices for setting up a Microsoft Azure account:\n",
    "\n",
    "1. You can use a Free Subscription - [The process for setting that up is here](https://azure.microsoft.com/en-us/free/)\n",
    "2. You can use a Microsoft Developer Network (MSDN) account - [The process for setting that up is here](https://azure.microsoft.com/en-us/pricing/member-offers/credit-for-visual-studio-subscribers/)\n",
    "3. You can use a Corporate account - See your corporate person in charge of Azure accounts to see if you are able to create a Virtual Machine and other assets on your company subscription\n",
    "4. Your training class environment may provide an Azure Account login for you - Ask your training instructor for instructions for a login\n",
    "\n",
    "*Once you have an Azure account login, open the Microsoft Azure Portal and continue to the next lab.*\n",
    "\n",
    "### Lab 0.1  - Set up the Data Science Virtual Machine\n",
    "\n",
    "Instructions:\n",
    "1. [Open this page](https://docs.microsoft.com/en-us/azure/machine-learning/data-science-virtual-machine/provision-vm) and look for the section titled **Create Your Microsoft Data Science Virtual Machine** \n",
    "2. Follow the instructions for that section, choosing **DS3 v2** as the size of the DSVM\n",
    "2. Complete the creation of the DSVM, and note the name, connection information and password for your system.\n",
    "\n",
    "### Lab 0.2 - Log in and Update System\n",
    "\n",
    "Instructions:\n",
    "1. Using the Remote Desktop Protocol (RDP) client of your choice, connect to your DSVM using the information from the previous lab. \n",
    "2. Using Windows Update, [update all Windows components](https://support.microsoft.com/en-us/help/3067639/how-to-get-an-update-through-windows-update). Ensure you set the update options to “Get updates for other Microsoft products” on the Windows Update home page. To enable checking for other products, click the ***Find Out More*** option shown beside this message. This will take you to the Microsoft Update site for some quick installation steps. You only need to do this once. Thereafter, the Windows Update home page will indicate that you receive updates “For Windows and other products from Microsoft Update.” . \n",
    "\n",
    "#### Lab verification\n",
    "<p><img style=\"float: left; margin: 0px 15px 15px 0px;\" src=\"./assets/checkbox.png\">Restart your DSVM and log in. \n",
    " \n",
    "<p style=\"border-bottom: 1px solid lightgrey;\"></p> \n",
    "\n",
    "### Lab 0.3 - Review and Download Project Planning Documents\n",
    "\n",
    "Instructions:\n",
    "1. [Open and review this reference](https://docs.microsoft.com/en-us/azure/machine-learning/team-data-science-process/team-data-science-process-project-templates)\n",
    "2. Download either the Microsoft Project template or Microsoft Excel file noted in that location.  \n",
    "\n",
    "#### Lab verification\n",
    "<p><img style=\"float: left; margin: 0px 15px 15px 0px;\" src=\"./assets/checkbox.png\">Open the Microsoft Project Template or the Microsoft Excel file. For the Excel file you can use Microsoft Office 365, a compatible spreadsheet viewer or the [free Microsoft Excel viewer](https://www.microsoft.com/en-us/download/details.aspx?id=10)</p>"
   ]
  },
  {
   "cell_type": "markdown",
   "metadata": {},
   "source": [
    "<p style=\"border-bottom: 3px solid lightgrey;\"></p> \n",
    "\n",
    "<h1>Introduction wrap-up</h1>\n",
    "\n",
    "This workshop introduced the Team Data Science Process, and walked you through each step of implementing it. Regardless of plaform or technology, you can use this process to guide your projects in Advanced Analytics from start to finish. \n",
    "\n",
    "The Notebooks are arranged in the same order as the Team Data Science Process: \n",
    "\n",
    "0 - *(This module)* [Introduction and Setup](./0%20-%20Introduction.ipynb)\n",
    "\n",
    "1 - *(Proceed to this Notebook Next)* [Business Understanding](./1%20-%20Business%20Understanding.ipynb)\n",
    "\n",
    "2 - [Data Acquisition and Understanding](./2%20-%20Data%20Acquisition%20and%20Understanding.ipynb)\n",
    "\n",
    "3 - [Modeling](./3%20-%20Modeling.ipynb)\n",
    "\n",
    "4 - [Deployment](./4%20-%20Deployment.ipynb)\n",
    "\n",
    "5 - [Customer Acceptance](./5%20-%20Customer%20Acceptance.ipynb)\n",
    "\n",
    "6 - [Workshop Wrap-up](./6%20-%20Workshop%20Wrap-up.ipynb)\n",
    "\n"
   ]
  },
  {
   "cell_type": "code",
   "execution_count": null,
   "metadata": {
    "collapsed": true
   },
   "outputs": [],
   "source": []
  }
 ],
 "metadata": {
  "hide_input": false,
  "kernelspec": {
   "display_name": "Python 3",
   "language": "python",
   "name": "python3"
  },
  "language_info": {
   "codemirror_mode": {
    "name": "ipython",
    "version": 3
   },
   "file_extension": ".py",
   "mimetype": "text/x-python",
   "name": "python",
   "nbconvert_exporter": "python",
   "pygments_lexer": "ipython3",
   "version": "3.6.4"
  }
 },
 "nbformat": 4,
 "nbformat_minor": 2
}
