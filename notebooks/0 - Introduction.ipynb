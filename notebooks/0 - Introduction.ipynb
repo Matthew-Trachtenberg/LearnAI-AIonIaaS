{
 "cells": [
  {
   "cell_type": "markdown",
   "metadata": {
    "slideshow": {
     "slide_type": "slide"
    }
   },
   "source": [
    "![](assets/solutions-microsoft-logo-small.png)\n",
    "<img src=\"assets/ai.jpg\" style=\"height:200px;float:right;vertical-align:text-top\">\n",
    "\n",
    "\n",
    "## Artificial Intelligence on IaaS++\n",
    "\n",
    "\n",
    "#### From the Microsoft Cloud and AI Team\n",
    "\n",
    "This workshop leads you through a series of [Jupyter Notebooks](https://jupyter-notebook-beginner-guide.readthedocs.io/en/latest/what_is_jupyter.html) that explain how to use the Microsoft Azure Data Science Virtual Machine (DSVM) and the Team Data Science Process (TDSP) to create Data Science and AI solutions. These solutions can be deployed in a variety of ways, leveraging Infrastructure-as-a-Service (IaaS) through Platform-as-a-Service (PaaS) environments, and a mixture of both based on requirements. \n",
    "\n",
    "[There are a few pre-requisites for this course - make sure you've done them before you start.](../readme.md)"
   ]
  },
  {
   "cell_type": "markdown",
   "metadata": {
    "slideshow": {
     "slide_type": "slide"
    }
   },
   "source": [
    "### The Microsoft Azure Data Science Virtual Machine (DSVM)\n",
    "\n",
    "<img src=\"assets/keyboard.jpg\" style=\"height:100px;float:right;vertical-align:text-top\">\n",
    "\n",
    "The Microsoft [Data Science Virtual Machine](https://docs.microsoft.com/en-us/azure/machine-learning/data-science-virtual-machine/) (DSVM) is a customized VM image on Microsoft’s Azure cloud built specifically for doing data science. It has many popular data science and other tools pre-installed and pre-configured to jump-start building intelligent applications for advanced analytics. It is available on Windows Server and on Linux. You can use it for training, and for all phases of the Data Science process. For this workshop, we'll use two Data Science Virutal Machines - one for development, and another as both the GPU-enabled training system and the Internet of Things (IoT) target.\n",
    "\n",
    "The advantages of working with the Data Science Virtual Machine are that it provides a quick, simple, cost-effective way of standing up a GPU-enabled environment for creation, experimention, deployment and service access with all the tools, libraries, runtimes and abstraction layers (such as Conda and Docker) needed for both learning and production. "
   ]
  },
  {
   "cell_type": "markdown",
   "metadata": {
    "slideshow": {
     "slide_type": "slide"
    }
   },
   "source": [
    "### The Team Data Science Process (TDSP)\n",
    "\n",
    "<img src=\"assets/pin.jpg\" style=\"height:75px;float:right;vertical-align:text-top\">\n",
    "\n",
    "[The Team Data Science Process](https://docs.microsoft.com/en-us/azure/machine-learning/team-data-science-process/overview) (TDSP) is an agile, iterative data science methodology to deliver predictive analytics solutions and intelligent applications efficiently. TDSP helps improve team collaboration and learning. It contains a distillation of the best practices and structures from Microsoft and others in the industry that facilitate the successful implementation of data science initiatives. The goal is to help companies fully realize the benefits of their analytics program. Essentially, the TDSP provides:\n",
    "\n",
    "1. A Data Science Lifecycle\n",
    "2. A standardized project structure\n",
    "3. An infrastructure and other resources\n",
    "4. A set of tools and utilities"
   ]
  },
  {
   "cell_type": "markdown",
   "metadata": {
    "slideshow": {
     "slide_type": "slide"
    }
   },
   "source": [
    "<img style=\"float: center;\" height=\"1000\" width=\"1000\" src=\"https://azure.github.io/LearnAI-Bootcamp/lab03.1-tdsp_and_aml/resources/docs/images/tdsp.png\">"
   ]
  },
  {
   "cell_type": "markdown",
   "metadata": {
    "slideshow": {
     "slide_type": "slide"
    }
   },
   "source": [
    "*This workshop guides you through a series of exercises you can use to learn to implement the TDSP in your Data Science project, using Python in a Notebook. You can change the **Setup** and **Lab** cells in this Notebook to use another language, another platform, and with more or fewer prompts based on your needs.*\n",
    "\n",
    "For the labs that follow, there may be places where you need to enter the code for the steps you see listed. For some of the lab work, there may be sections marked: \n",
    "\n",
    "`# <TODO: REPLACE THIS COMMENT WITH CODE>`\n",
    "\n",
    "There may be just one line of code needed, but most often more lines of code than that - read the entire code snippet to see what you need to do. "
   ]
  },
  {
   "cell_type": "markdown",
   "metadata": {
    "slideshow": {
     "slide_type": "slide"
    }
   },
   "source": [
    "An Microsoft Azure Machine Learning solution has the following elements:\n",
    "  - *A developent environment* - this can be a local workstation or a Virtual Machine. Microsoft has a Data Science Virtual Machine (DSVM) that has all of the tools you need to create multiple types of Machine Learning and Artificial Intelligence solutions.\n",
    "  - *Microsoft Azure Machine Learning (AML)* - AML is a set of cloud-based services to create, manage, and serve your experiments and models. \n",
    "  - *Contained Environments for Experimentation and Operationalization* - You can use Docker for both Experimentation and Operationalization, and you can also Operationalize your solution using Spark. "
   ]
  },
  {
   "cell_type": "markdown",
   "metadata": {
    "slideshow": {
     "slide_type": "slide"
    }
   },
   "source": [
    "### Lab 0.6 - Note the TDSP Structure\n",
    "\n",
    "<img src=\"assets/checkmark.jpg\" style=\"float:right;vertical-align:text-top\">\n",
    "\n",
    "We'll start by examining the Team Data Science Process (TDSP) structure for the solution. [Ensure you have completed the pre-requisites in the introduction document](../readme.md), and then perform these steps next.  \n",
    "\n",
    "Instructions *(you do not need to run any of this code)*:\n",
    "1. [Open and review this reference](https://github.com/Azure/Azure-TDSP-ProjectTemplate)\n",
    "2. This course's github clone has already included the TDSP structure for you, so you do not need to clone it again. However, in production for a new solution, you can use the following :\n",
    "\n",
    "`cd <WhateverDirectoryYouWantForYourSolution>`\n",
    "\n",
    "And then type:\n",
    "\n",
    "`git clone https://github.com/Azure/Azure-TDSP-ProjectTemplate.git`\n",
    "\n",
    "#### Lab verification\n",
    "<p><img style=\"float: left; margin: 0px 15px 15px 0px;\" src=\"./assets/checkbox.png\">Navigate to the \n",
    "    \n",
    "`~/notebooks/gpuclass` \n",
    "\n",
    "folder and ensure the directory structure has at least the same directories as located here: https://github.com/Azure/Azure-TDSP-ProjectTemplate.git</p>"
   ]
  },
  {
   "cell_type": "markdown",
   "metadata": {
    "slideshow": {
     "slide_type": "slide"
    }
   },
   "source": [
    "### Lab 0.7 - Review and Download Project Planning Documents\n",
    "\n",
    "<img src=\"assets/checkmark.jpg\" style=\"float:right;vertical-align:text-top\">\n",
    "\n",
    "Next we'll create a project plan for the solution. You'll store the finalized project in the `Docs/Project` folder in the solution directory on your Data Science Virtual Machine, but you can edit the project plan using whatever system you like. \n",
    "\n",
    "Instructions:\n",
    "1. [Open and review this reference](https://docs.microsoft.com/en-us/azure/machine-learning/team-data-science-process/team-data-science-process-project-templates)\n",
    "2. Download either the Microsoft Project template or Microsoft Excel file noted in that location. \n",
    "3. Edit and store the file in the `Docs/Project` folder in the solution directory on your Data Science Virtual Machine, in the `~/notebooks/gpuclass` directory.\n",
    "\n",
    "#### Lab verification\n",
    "<p><img style=\"float: left; margin: 0px 15px 15px 0px;\" src=\"./assets/checkbox.png\">Open the Microsoft Project Template or the Microsoft Excel file. For the Excel file you can use Microsoft Office 365, a compatible spreadsheet viewer or the [free Microsoft Excel viewer](https://support.microsoft.com/en-us/help/273711/how-to-obtain-the-latest-excel-viewer).</p>"
   ]
  },
  {
   "cell_type": "markdown",
   "metadata": {
    "slideshow": {
     "slide_type": "slide"
    }
   },
   "source": [
    "### Introduction wrap-up\n",
    "\n",
    "<img src=\"assets/wrapup.jpg\" style=\"float:right;vertical-align:text-top\">\n",
    "\n",
    "This workshop introduced the Team Data Science Process, and walked you through each step of implementing it. Regardless of plaform or technology, you can use this process to guide your projects in Advanced Analytics from start to finish. \n",
    "\n",
    "The Notebooks are arranged in the same order as the Team Data Science Process: \n",
    "\n",
    "0 - *(This module)* [Introduction and Setup](./0%20-%20Introduction.ipynb)\n",
    "\n",
    "1 - *(Proceed to this Notebook Next)* [Business Understanding](./1%20-%20Business%20Understanding.ipynb)\n",
    "\n",
    "2 - [Data Acquisition and Understanding](./2%20-%20Data%20Acquisition%20and%20Understanding.ipynb)\n",
    "\n",
    "3 - [Modeling](./3%20-%20Modeling.ipynb)\n",
    "\n",
    "4 - [Deployment](./4%20-%20Deployment.ipynb)\n",
    "\n",
    "5 - [Customer Acceptance](./5%20-%20Customer%20Acceptance.ipynb)\n",
    "\n",
    "6 - [Workshop Wrap-up](./6%20-%20Workshop%20Wrap-up.ipynb)\n",
    "\n",
    "<p style=\"border-bottom: 1px solid lightgrey;\"></p> "
   ]
  }
 ],
 "metadata": {
  "celltoolbar": "Slideshow",
  "hide_input": false,
  "kernelspec": {
   "display_name": "Python 3",
   "language": "python",
   "name": "python3"
  },
  "language_info": {
   "codemirror_mode": {
    "name": "ipython",
    "version": 3
   },
   "file_extension": ".py",
   "mimetype": "text/x-python",
   "name": "python",
   "nbconvert_exporter": "python",
   "pygments_lexer": "ipython3",
   "version": "3.6.4"
  }
 },
 "nbformat": 4,
 "nbformat_minor": 2
}
